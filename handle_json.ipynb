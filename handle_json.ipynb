{
 "cells": [
  {
   "cell_type": "code",
   "execution_count": 55,
   "metadata": {},
   "outputs": [],
   "source": [
    "import json \n",
    "\n",
    "with open('test.json') as data:\n",
    "    json_string = json.load(data)"
   ]
  },
  {
   "cell_type": "code",
   "execution_count": 57,
   "metadata": {},
   "outputs": [
    {
     "name": "stdout",
     "output_type": "stream",
     "text": [
      "{'name': 'my_compoent', 'text': 'PIM', 'fromArrow': 'triangleSolid', 'id': '4258716', 'anchors': [{}], 'children': ['ac36ae6']}\n",
      "{'name': 'my_compoent', 'text': 'PIM', 'fromArrow': 'triangleSolid', 'id': 'd8a5aa8', 'anchors': [{}], 'children': ['4c62a257']}\n",
      "{'name': 'interface_part', 'text': '1', 'id': 'ac36ae6', 'anchors': [{'id': '0', 'penId': 'ac36ae6', 'x': 0.5, 'y': 0.5}], 'parentId': '4258716', 'ex': 1.0642857142857143, 'ey': 1.1363636363636362, 'locked': 2, 'connectedLines': [{'lineId': '4a1867d', 'lineAnchor': '5e1621a7', 'anchor': '0'}]}\n",
      "{'name': 'interface_part', 'text': '1', 'id': '4c62a257', 'anchors': [{'id': '0', 'penId': '4c62a257', 'x': 0.5, 'y': 0.5}], 'parentId': 'd8a5aa8', 'ex': 1.0642857142857143, 'ey': 1.1363636363636362, 'locked': 2, 'connectedLines': [{'lineId': '4a1867d', 'lineAnchor': '565b997f', 'anchor': '0'}, {'lineId': '7bfd21c6', 'lineAnchor': '60df72e', 'anchor': '0'}]}\n",
      "{'id': '4a1867d', 'name': 'line', 'lineName': 'polyline', 'type': 1, 'length': 528, 'ex': 506.5, 'ey': 418.5, 'anchors': [{'id': '565b997f', 'x': 1, 'y': 1, 'penId': '4a1867d', 'connectTo': '4c62a257', 'anchorId': '0', 'start': True, 'lineLength': 30}, {'x': 1, 'y': 0.8064516129032258, 'id': '1fbf1bfb', 'lineLength': 125}, {'x': 1, 'y': 0, 'id': 'b504c1', 'penId': '4a1867d', 'lineLength': 343}, {'x': 0, 'y': 0, 'id': '77be350d', 'penId': '4a1867d', 'isTemp': False, 'lineLength': 30}, {'x': 0, 'y': 0.1935483870967742, 'clientX': 810, 'clientY': 380, 'pageX': 810, 'pageY': 380, 'ctrlKey': False, 'shiftKey': False, 'altKey': False, 'buttons': 1, 'id': '5e1621a7', 'penId': '4a1867d', 'connectTo': 'ac36ae6', 'isTemp': False, 'anchorId': '0'}]}\n"
     ]
    }
   ],
   "source": [
    "# 后端需要恢复画布，所以前端传过来画布的所有信息。但是处理连接关系的时候不需要部分信息，这里去掉不需要的部分\n",
    "pens_list = json_string['pens']\n",
    "for i in pens_list:\n",
    "    try:\n",
    "        i.pop('x')\n",
    "        i.pop('y')\n",
    "        i.pop('width')\n",
    "        i.pop('height')\n",
    "        i.pop('lineWidth')\n",
    "        i.pop('lineHeight')\n",
    "        i.pop('fontSize')\n",
    "        i.pop('rotate') # line类型不包含rotate属性\n",
    "    except:\n",
    "        pass"
   ]
  },
  {
   "cell_type": "code",
   "execution_count": 72,
   "metadata": {},
   "outputs": [
    {
     "name": "stdout",
     "output_type": "stream",
     "text": [
      "all，包括模型和接口:\n",
      "{'name': 'my_compoent', 'text': 'PIM', 'fromArrow': 'triangleSolid', 'id': '4258716', 'anchors': [{}], 'children': ['ac36ae6']}\n",
      "{'name': 'my_compoent', 'text': 'PIM', 'fromArrow': 'triangleSolid', 'id': 'd8a5aa8', 'anchors': [{}], 'children': ['4c62a257']}\n",
      "{'name': 'interface_part', 'text': '1', 'id': 'ac36ae6', 'anchors': [{'id': '0', 'penId': 'ac36ae6', 'x': 0.5, 'y': 0.5}], 'parentId': '4258716', 'ex': 1.0642857142857143, 'ey': 1.1363636363636362, 'locked': 2, 'connectedLines': [{'lineId': '4a1867d', 'lineAnchor': '5e1621a7', 'anchor': '0'}]}\n",
      "{'name': 'interface_part', 'text': '1', 'id': '4c62a257', 'anchors': [{'id': '0', 'penId': '4c62a257', 'x': 0.5, 'y': 0.5}], 'parentId': 'd8a5aa8', 'ex': 1.0642857142857143, 'ey': 1.1363636363636362, 'locked': 2, 'connectedLines': [{'lineId': '4a1867d', 'lineAnchor': '565b997f', 'anchor': '0'}, {'lineId': '7bfd21c6', 'lineAnchor': '60df72e', 'anchor': '0'}]}\n",
      "{'id': '4a1867d', 'name': 'line', 'lineName': 'polyline', 'type': 1, 'length': 528, 'ex': 506.5, 'ey': 418.5, 'anchors': [{'id': '565b997f', 'x': 1, 'y': 1, 'penId': '4a1867d', 'connectTo': '4c62a257', 'anchorId': '0', 'start': True, 'lineLength': 30}, {'x': 1, 'y': 0.8064516129032258, 'id': '1fbf1bfb', 'lineLength': 125}, {'x': 1, 'y': 0, 'id': 'b504c1', 'penId': '4a1867d', 'lineLength': 343}, {'x': 0, 'y': 0, 'id': '77be350d', 'penId': '4a1867d', 'isTemp': False, 'lineLength': 30}, {'x': 0, 'y': 0.1935483870967742, 'clientX': 810, 'clientY': 380, 'pageX': 810, 'pageY': 380, 'ctrlKey': False, 'shiftKey': False, 'altKey': False, 'buttons': 1, 'id': '5e1621a7', 'penId': '4a1867d', 'connectTo': 'ac36ae6', 'isTemp': False, 'anchorId': '0'}]}\n",
      "所有画笔(模型和接口)的id:\n",
      "4258716\n",
      "d8a5aa8\n",
      "ac36ae6\n",
      "4c62a257\n",
      "4a1867d\n",
      "所有模型，及其所含的接口:\n",
      "模型： {'name': 'my_compoent', 'text': 'PIM', 'fromArrow': 'triangleSolid', 'id': '4258716', 'anchors': [{}], 'children': ['ac36ae6']}\n",
      "含有的所有接口如下:\n",
      "child {'name': 'interface_part', 'text': '1', 'id': 'ac36ae6', 'anchors': [{'id': '0', 'penId': 'ac36ae6', 'x': 0.5, 'y': 0.5}], 'parentId': '4258716', 'ex': 1.0642857142857143, 'ey': 1.1363636363636362, 'locked': 2, 'connectedLines': [{'lineId': '4a1867d', 'lineAnchor': '5e1621a7', 'anchor': '0'}]}\n",
      "----\n",
      "模型： {'name': 'my_compoent', 'text': 'PIM', 'fromArrow': 'triangleSolid', 'id': 'd8a5aa8', 'anchors': [{}], 'children': ['4c62a257']}\n",
      "含有的所有接口如下:\n",
      "child {'name': 'interface_part', 'text': '1', 'id': '4c62a257', 'anchors': [{'id': '0', 'penId': '4c62a257', 'x': 0.5, 'y': 0.5}], 'parentId': 'd8a5aa8', 'ex': 1.0642857142857143, 'ey': 1.1363636363636362, 'locked': 2, 'connectedLines': [{'lineId': '4a1867d', 'lineAnchor': '565b997f', 'anchor': '0'}, {'lineId': '7bfd21c6', 'lineAnchor': '60df72e', 'anchor': '0'}]}\n",
      "----\n"
     ]
    }
   ],
   "source": [
    "pens_list = json_string['pens']\n",
    "\n",
    "print('all，包括模型和接口:')\n",
    "for i in pens_list:\n",
    "    print(i)\n",
    "\n",
    "print('所有画笔(模型和接口)的id:')\n",
    "for i in pens_list:\n",
    "    print(i['id'])\n",
    "\n",
    "print('所有模型，及其所含的接口:')\n",
    "for pen in pens_list:\n",
    "    try:\n",
    "        pen['children'] # 含有children属性的为模型\n",
    "        print('模型：', pen)\n",
    "\n",
    "        print('含有的所有接口如下:')\n",
    "        for child_id in pen['children']:\n",
    "            child = filter(lambda x: x['id'] == child_id, pens_list)\n",
    "            for i in child: # 符合条件的理论上只有一个\n",
    "                print('child', i)\n",
    "        print('----')\n",
    "    except:\n",
    "        pass\n"
   ]
  },
  {
   "cell_type": "code",
   "execution_count": 53,
   "metadata": {},
   "outputs": [
    {
     "name": "stdout",
     "output_type": "stream",
     "text": [
      "{'name': 'my_compoent', 'text': 'PIM', 'fromArrow': 'triangleSolid', 'id': '4258716', 'anchors': [{}], 'children': ['ac36ae6']}\n"
     ]
    },
    {
     "ename": "KeyError",
     "evalue": "'x'",
     "output_type": "error",
     "traceback": [
      "\u001b[0;31m---------------------------------------------------------------------------\u001b[0m",
      "\u001b[0;31mKeyError\u001b[0m                                  Traceback (most recent call last)",
      "\u001b[1;32m/mnt/home/richsoap/s/handle_json/handle_json.ipynb Cell 3\u001b[0m in \u001b[0;36m<cell line: 2>\u001b[0;34m()\u001b[0m\n\u001b[1;32m      <a href='vscode-notebook-cell://ssh-remote%2B162.105.85.214/mnt/home/richsoap/s/handle_json/handle_json.ipynb#W2sdnNjb2RlLXJlbW90ZQ%3D%3D?line=1'>2</a>\u001b[0m \u001b[39mfor\u001b[39;00m i \u001b[39min\u001b[39;00m pens_list:\n\u001b[1;32m      <a href='vscode-notebook-cell://ssh-remote%2B162.105.85.214/mnt/home/richsoap/s/handle_json/handle_json.ipynb#W2sdnNjb2RlLXJlbW90ZQ%3D%3D?line=2'>3</a>\u001b[0m     \u001b[39mprint\u001b[39m(i)\n\u001b[0;32m----> <a href='vscode-notebook-cell://ssh-remote%2B162.105.85.214/mnt/home/richsoap/s/handle_json/handle_json.ipynb#W2sdnNjb2RlLXJlbW90ZQ%3D%3D?line=3'>4</a>\u001b[0m     i\u001b[39m.\u001b[39;49mpop(\u001b[39m'\u001b[39;49m\u001b[39mx\u001b[39;49m\u001b[39m'\u001b[39;49m)\n\u001b[1;32m      <a href='vscode-notebook-cell://ssh-remote%2B162.105.85.214/mnt/home/richsoap/s/handle_json/handle_json.ipynb#W2sdnNjb2RlLXJlbW90ZQ%3D%3D?line=4'>5</a>\u001b[0m     i\u001b[39m.\u001b[39mpop(\u001b[39m'\u001b[39m\u001b[39my\u001b[39m\u001b[39m'\u001b[39m)\n\u001b[1;32m      <a href='vscode-notebook-cell://ssh-remote%2B162.105.85.214/mnt/home/richsoap/s/handle_json/handle_json.ipynb#W2sdnNjb2RlLXJlbW90ZQ%3D%3D?line=5'>6</a>\u001b[0m     i\u001b[39m.\u001b[39mpop(\u001b[39m'\u001b[39m\u001b[39mwidth\u001b[39m\u001b[39m'\u001b[39m)\n",
      "\u001b[0;31mKeyError\u001b[0m: 'x'"
     ]
    }
   ],
   "source": [
    "\n",
    "\n",
    "pens_list"
   ]
  },
  {
   "cell_type": "code",
   "execution_count": 54,
   "metadata": {},
   "outputs": [
    {
     "data": {
      "text/plain": [
       "[{'name': 'my_compoent',\n",
       "  'text': 'PIM',\n",
       "  'fromArrow': 'triangleSolid',\n",
       "  'id': '4258716',\n",
       "  'anchors': [{}],\n",
       "  'children': ['ac36ae6']},\n",
       " {'name': 'my_compoent',\n",
       "  'text': 'PIM',\n",
       "  'fromArrow': 'triangleSolid',\n",
       "  'id': 'd8a5aa8',\n",
       "  'anchors': [{}],\n",
       "  'children': ['4c62a257']},\n",
       " {'name': 'interface_part',\n",
       "  'text': '1',\n",
       "  'id': 'ac36ae6',\n",
       "  'anchors': [{'id': '0', 'penId': 'ac36ae6', 'x': 0.5, 'y': 0.5}],\n",
       "  'parentId': '4258716',\n",
       "  'ex': 1.0642857142857143,\n",
       "  'ey': 1.1363636363636362,\n",
       "  'locked': 2,\n",
       "  'connectedLines': [{'lineId': '4a1867d',\n",
       "    'lineAnchor': '5e1621a7',\n",
       "    'anchor': '0'}]},\n",
       " {'name': 'interface_part',\n",
       "  'text': '1',\n",
       "  'id': '4c62a257',\n",
       "  'anchors': [{'id': '0', 'penId': '4c62a257', 'x': 0.5, 'y': 0.5}],\n",
       "  'parentId': 'd8a5aa8',\n",
       "  'ex': 1.0642857142857143,\n",
       "  'ey': 1.1363636363636362,\n",
       "  'locked': 2,\n",
       "  'connectedLines': [{'lineId': '4a1867d',\n",
       "    'lineAnchor': '565b997f',\n",
       "    'anchor': '0'},\n",
       "   {'lineId': '7bfd21c6', 'lineAnchor': '60df72e', 'anchor': '0'}]},\n",
       " {'id': '4a1867d',\n",
       "  'name': 'line',\n",
       "  'lineName': 'polyline',\n",
       "  'type': 1,\n",
       "  'length': 528,\n",
       "  'ex': 506.5,\n",
       "  'ey': 418.5,\n",
       "  'anchors': [{'id': '565b997f',\n",
       "    'x': 1,\n",
       "    'y': 1,\n",
       "    'penId': '4a1867d',\n",
       "    'connectTo': '4c62a257',\n",
       "    'anchorId': '0',\n",
       "    'start': True,\n",
       "    'lineLength': 30},\n",
       "   {'x': 1, 'y': 0.8064516129032258, 'id': '1fbf1bfb', 'lineLength': 125},\n",
       "   {'x': 1, 'y': 0, 'id': 'b504c1', 'penId': '4a1867d', 'lineLength': 343},\n",
       "   {'x': 0,\n",
       "    'y': 0,\n",
       "    'id': '77be350d',\n",
       "    'penId': '4a1867d',\n",
       "    'isTemp': False,\n",
       "    'lineLength': 30},\n",
       "   {'x': 0,\n",
       "    'y': 0.1935483870967742,\n",
       "    'clientX': 810,\n",
       "    'clientY': 380,\n",
       "    'pageX': 810,\n",
       "    'pageY': 380,\n",
       "    'ctrlKey': False,\n",
       "    'shiftKey': False,\n",
       "    'altKey': False,\n",
       "    'buttons': 1,\n",
       "    'id': '5e1621a7',\n",
       "    'penId': '4a1867d',\n",
       "    'connectTo': 'ac36ae6',\n",
       "    'isTemp': False,\n",
       "    'anchorId': '0'}]}]"
      ]
     },
     "execution_count": 54,
     "metadata": {},
     "output_type": "execute_result"
    }
   ],
   "source": [
    "pens_list"
   ]
  },
  {
   "cell_type": "code",
   "execution_count": 42,
   "metadata": {},
   "outputs": [
    {
     "ename": "TypeError",
     "evalue": "pop expected at most 2 arguments, got 3",
     "output_type": "error",
     "traceback": [
      "\u001b[0;31m---------------------------------------------------------------------------\u001b[0m",
      "\u001b[0;31mTypeError\u001b[0m                                 Traceback (most recent call last)",
      "\u001b[1;32m/mnt/home/richsoap/s/handle_json/handle_json.ipynb Cell 5\u001b[0m in \u001b[0;36m<cell line: 1>\u001b[0;34m()\u001b[0m\n\u001b[0;32m----> <a href='vscode-notebook-cell://ssh-remote%2B162.105.85.214/mnt/home/richsoap/s/handle_json/handle_json.ipynb#W4sdnNjb2RlLXJlbW90ZQ%3D%3D?line=0'>1</a>\u001b[0m pens_list[\u001b[39m0\u001b[39;49m]\u001b[39m.\u001b[39;49mpop(\u001b[39m'\u001b[39;49m\u001b[39mx\u001b[39;49m\u001b[39m'\u001b[39;49m,\u001b[39m'\u001b[39;49m\u001b[39my\u001b[39;49m\u001b[39m'\u001b[39;49m,\u001b[39m'\u001b[39;49m\u001b[39mname\u001b[39;49m\u001b[39m'\u001b[39;49m)\n\u001b[1;32m      <a href='vscode-notebook-cell://ssh-remote%2B162.105.85.214/mnt/home/richsoap/s/handle_json/handle_json.ipynb#W4sdnNjb2RlLXJlbW90ZQ%3D%3D?line=1'>2</a>\u001b[0m pens_list\n",
      "\u001b[0;31mTypeError\u001b[0m: pop expected at most 2 arguments, got 3"
     ]
    }
   ],
   "source": []
  },
  {
   "cell_type": "code",
   "execution_count": null,
   "metadata": {},
   "outputs": [],
   "source": []
  }
 ],
 "metadata": {
  "kernelspec": {
   "display_name": "base",
   "language": "python",
   "name": "python3"
  },
  "language_info": {
   "codemirror_mode": {
    "name": "ipython",
    "version": 3
   },
   "file_extension": ".py",
   "mimetype": "text/x-python",
   "name": "python",
   "nbconvert_exporter": "python",
   "pygments_lexer": "ipython3",
   "version": "3.9.12"
  },
  "orig_nbformat": 4
 },
 "nbformat": 4,
 "nbformat_minor": 2
}
