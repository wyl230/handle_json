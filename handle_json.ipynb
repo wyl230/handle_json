{
 "cells": [
  {
   "cell_type": "code",
   "execution_count": 55,
   "metadata": {},
   "outputs": [],
   "source": [
    "import json \n",
    "\n",
    "with open('test.json') as data:\n",
    "    json_string = json.load(data)"
   ]
  },
  {
   "cell_type": "code",
   "execution_count": 57,
   "metadata": {},
   "outputs": [
    {
     "name": "stdout",
     "output_type": "stream",
     "text": [
      "{'name': 'my_compoent', 'text': 'PIM', 'fromArrow': 'triangleSolid', 'id': '4258716', 'anchors': [{}], 'children': ['ac36ae6']}\n",
      "{'name': 'my_compoent', 'text': 'PIM', 'fromArrow': 'triangleSolid', 'id': 'd8a5aa8', 'anchors': [{}], 'children': ['4c62a257']}\n",
      "{'name': 'interface_part', 'text': '1', 'id': 'ac36ae6', 'anchors': [{'id': '0', 'penId': 'ac36ae6', 'x': 0.5, 'y': 0.5}], 'parentId': '4258716', 'ex': 1.0642857142857143, 'ey': 1.1363636363636362, 'locked': 2, 'connectedLines': [{'lineId': '4a1867d', 'lineAnchor': '5e1621a7', 'anchor': '0'}]}\n",
      "{'name': 'interface_part', 'text': '1', 'id': '4c62a257', 'anchors': [{'id': '0', 'penId': '4c62a257', 'x': 0.5, 'y': 0.5}], 'parentId': 'd8a5aa8', 'ex': 1.0642857142857143, 'ey': 1.1363636363636362, 'locked': 2, 'connectedLines': [{'lineId': '4a1867d', 'lineAnchor': '565b997f', 'anchor': '0'}, {'lineId': '7bfd21c6', 'lineAnchor': '60df72e', 'anchor': '0'}]}\n",
      "{'id': '4a1867d', 'name': 'line', 'lineName': 'polyline', 'type': 1, 'length': 528, 'ex': 506.5, 'ey': 418.5, 'anchors': [{'id': '565b997f', 'x': 1, 'y': 1, 'penId': '4a1867d', 'connectTo': '4c62a257', 'anchorId': '0', 'start': True, 'lineLength': 30}, {'x': 1, 'y': 0.8064516129032258, 'id': '1fbf1bfb', 'lineLength': 125}, {'x': 1, 'y': 0, 'id': 'b504c1', 'penId': '4a1867d', 'lineLength': 343}, {'x': 0, 'y': 0, 'id': '77be350d', 'penId': '4a1867d', 'isTemp': False, 'lineLength': 30}, {'x': 0, 'y': 0.1935483870967742, 'clientX': 810, 'clientY': 380, 'pageX': 810, 'pageY': 380, 'ctrlKey': False, 'shiftKey': False, 'altKey': False, 'buttons': 1, 'id': '5e1621a7', 'penId': '4a1867d', 'connectTo': 'ac36ae6', 'isTemp': False, 'anchorId': '0'}]}\n"
     ]
    }
   ],
   "source": [
    "# 后端需要恢复画布，所以前端传过来画布的所有信息。但是处理连接关系的时候不需要部分信息，这里去掉不需要的部分\n",
    "pens_list = json_string['pens']\n",
    "for i in pens_list:\n",
    "    try:\n",
    "        i.pop('x')\n",
    "        i.pop('y')\n",
    "        i.pop('width')\n",
    "        i.pop('height')\n",
    "        i.pop('lineWidth')\n",
    "        i.pop('lineHeight')\n",
    "        i.pop('fontSize')\n",
    "        i.pop('rotate') # line类型不包含rotate属性\n",
    "    except:\n",
    "        pass"
   ]
  },
  {
   "cell_type": "code",
   "execution_count": 81,
   "metadata": {},
   "outputs": [
    {
     "name": "stdout",
     "output_type": "stream",
     "text": [
      "all，包括模型和接口和连线:\n",
      "{'name': 'my_compoent', 'text': 'PIM', 'fromArrow': 'triangleSolid', 'id': '4258716', 'anchors': [{}], 'children': ['ac36ae6']}\n",
      "{'name': 'my_compoent', 'text': 'PIM', 'fromArrow': 'triangleSolid', 'id': 'd8a5aa8', 'anchors': [{}], 'children': ['4c62a257']}\n",
      "{'name': 'interface_part', 'text': '1', 'id': 'ac36ae6', 'anchors': [{'id': '0', 'penId': 'ac36ae6', 'x': 0.5, 'y': 0.5}], 'parentId': '4258716', 'ex': 1.0642857142857143, 'ey': 1.1363636363636362, 'locked': 2, 'connectedLines': [{'lineId': '4a1867d', 'lineAnchor': '5e1621a7', 'anchor': '0'}]}\n",
      "{'name': 'interface_part', 'text': '1', 'id': '4c62a257', 'anchors': [{'id': '0', 'penId': '4c62a257', 'x': 0.5, 'y': 0.5}], 'parentId': 'd8a5aa8', 'ex': 1.0642857142857143, 'ey': 1.1363636363636362, 'locked': 2, 'connectedLines': [{'lineId': '4a1867d', 'lineAnchor': '565b997f', 'anchor': '0'}, {'lineId': '7bfd21c6', 'lineAnchor': '60df72e', 'anchor': '0'}]}\n",
      "{'id': '4a1867d', 'name': 'line', 'lineName': 'polyline', 'type': 1, 'length': 528, 'ex': 506.5, 'ey': 418.5, 'anchors': [{'id': '565b997f', 'x': 1, 'y': 1, 'penId': '4a1867d', 'connectTo': '4c62a257', 'anchorId': '0', 'start': True, 'lineLength': 30}, {'x': 1, 'y': 0.8064516129032258, 'id': '1fbf1bfb', 'lineLength': 125}, {'x': 1, 'y': 0, 'id': 'b504c1', 'penId': '4a1867d', 'lineLength': 343}, {'x': 0, 'y': 0, 'id': '77be350d', 'penId': '4a1867d', 'isTemp': False, 'lineLength': 30}, {'x': 0, 'y': 0.1935483870967742, 'clientX': 810, 'clientY': 380, 'pageX': 810, 'pageY': 380, 'ctrlKey': False, 'shiftKey': False, 'altKey': False, 'buttons': 1, 'id': '5e1621a7', 'penId': '4a1867d', 'connectTo': 'ac36ae6', 'isTemp': False, 'anchorId': '0'}]}\n",
      "-------------\n",
      "所有画笔(模型和接口及连线)的id:\n",
      "4258716\n",
      "d8a5aa8\n",
      "ac36ae6\n",
      "4c62a257\n",
      "4a1867d\n",
      "-------------\n",
      "所有模型，及其所含的接口:\n",
      "模型： {'name': 'my_compoent', 'text': 'PIM', 'fromArrow': 'triangleSolid', 'id': '4258716', 'anchors': [{}], 'children': ['ac36ae6']}\n",
      "含有的所有接口如下:\n",
      "child {'name': 'interface_part', 'text': '1', 'id': 'ac36ae6', 'anchors': [{'id': '0', 'penId': 'ac36ae6', 'x': 0.5, 'y': 0.5}], 'parentId': '4258716', 'ex': 1.0642857142857143, 'ey': 1.1363636363636362, 'locked': 2, 'connectedLines': [{'lineId': '4a1867d', 'lineAnchor': '5e1621a7', 'anchor': '0'}]}\n",
      "-------------\n",
      "模型： {'name': 'my_compoent', 'text': 'PIM', 'fromArrow': 'triangleSolid', 'id': 'd8a5aa8', 'anchors': [{}], 'children': ['4c62a257']}\n",
      "含有的所有接口如下:\n",
      "child {'name': 'interface_part', 'text': '1', 'id': '4c62a257', 'anchors': [{'id': '0', 'penId': '4c62a257', 'x': 0.5, 'y': 0.5}], 'parentId': 'd8a5aa8', 'ex': 1.0642857142857143, 'ey': 1.1363636363636362, 'locked': 2, 'connectedLines': [{'lineId': '4a1867d', 'lineAnchor': '565b997f', 'anchor': '0'}, {'lineId': '7bfd21c6', 'lineAnchor': '60df72e', 'anchor': '0'}]}\n",
      "-------------\n",
      "-------------\n",
      "所有连线，给出了哪两个接口相连\n",
      "{'id': '4a1867d', 'name': 'line', 'lineName': 'polyline', 'type': 1, 'length': 528, 'ex': 506.5, 'ey': 418.5, 'anchors': [{'id': '565b997f', 'x': 1, 'y': 1, 'penId': '4a1867d', 'connectTo': '4c62a257', 'anchorId': '0', 'start': True, 'lineLength': 30}, {'x': 1, 'y': 0.8064516129032258, 'id': '1fbf1bfb', 'lineLength': 125}, {'x': 1, 'y': 0, 'id': 'b504c1', 'penId': '4a1867d', 'lineLength': 343}, {'x': 0, 'y': 0, 'id': '77be350d', 'penId': '4a1867d', 'isTemp': False, 'lineLength': 30}, {'x': 0, 'y': 0.1935483870967742, 'clientX': 810, 'clientY': 380, 'pageX': 810, 'pageY': 380, 'ctrlKey': False, 'shiftKey': False, 'altKey': False, 'buttons': 1, 'id': '5e1621a7', 'penId': '4a1867d', 'connectTo': 'ac36ae6', 'isTemp': False, 'anchorId': '0'}]}\n",
      "该连线连接的两个接口的id\n",
      "4c62a257\n",
      "ac36ae6\n",
      "-------------\n"
     ]
    }
   ],
   "source": [
    "pens_list = json_string['pens']\n",
    "\n",
    "print('all，包括模型和接口和连线:')\n",
    "for i in pens_list:\n",
    "    print(i)\n",
    "print('-------------')\n",
    "\n",
    "print('所有画笔(模型和接口及连线)的id:')\n",
    "for i in pens_list:\n",
    "    print(i['id'])\n",
    "print('-------------')\n",
    "\n",
    "print('所有模型，及其所含的接口:')\n",
    "for pen in pens_list:\n",
    "    try:\n",
    "        pen['children'] # 含有children属性的为模型\n",
    "        print('模型：', pen)\n",
    "\n",
    "        print('含有的所有接口如下:')\n",
    "        for child_id in pen['children']:\n",
    "            child = filter(lambda x: x['id'] == child_id, pens_list)\n",
    "            for i in child: # 符合条件的理论上只有一个\n",
    "                print('child', i)\n",
    "        print('-------------')\n",
    "    except:\n",
    "        pass\n",
    "print('-------------')\n",
    "\n",
    "print('所有连线，给出了哪两个接口相连')\n",
    "for pen in filter(lambda pen:pen['name'] == 'line', pens_list):\n",
    "    print(pen)\n",
    "    print('该连线连接的两个接口的id')\n",
    "    for anchor in pen['anchors']:\n",
    "        try:\n",
    "            print(anchor['connectTo'])\n",
    "        except:\n",
    "            pass\n",
    "        \n",
    "print('-------------')\n"
   ]
  },
  {
   "cell_type": "code",
   "execution_count": 10,
   "metadata": {},
   "outputs": [
    {
     "data": {
      "text/plain": [
       "True"
      ]
     },
     "execution_count": 10,
     "metadata": {},
     "output_type": "execute_result"
    }
   ],
   "source": []
  },
  {
   "cell_type": "code",
   "execution_count": null,
   "metadata": {},
   "outputs": [],
   "source": []
  }
 ],
 "metadata": {
  "kernelspec": {
   "display_name": "base",
   "language": "python",
   "name": "python3"
  },
  "language_info": {
   "codemirror_mode": {
    "name": "ipython",
    "version": 3
   },
   "file_extension": ".py",
   "mimetype": "text/x-python",
   "name": "python",
   "nbconvert_exporter": "python",
   "pygments_lexer": "ipython3",
   "version": "3.9.12"
  },
  "orig_nbformat": 4
 },
 "nbformat": 4,
 "nbformat_minor": 2
}
